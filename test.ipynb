{
 "cells": [
  {
   "cell_type": "code",
   "execution_count": 1,
   "metadata": {},
   "outputs": [],
   "source": [
    "import pandas as pd\n",
    "import numpy as np\n",
    "from sklearn import mixture\n",
    "from sklearn.metrics import accuracy_score\n",
    "import pickle"
   ]
  },
  {
   "cell_type": "code",
   "execution_count": 2,
   "metadata": {},
   "outputs": [],
   "source": [
    "def load_dataset(test_path):\n",
    "    testData=pd.read_hdf(test_path)\n",
    "    X_test=np.array(testData['features'].values.tolist())\n",
    "    y_test_labels=np.array(testData['labels'].tolist())\n",
    "    return X_test, y_test_labels"
   ]
  },
  {
   "cell_type": "code",
   "execution_count": 3,
   "metadata": {},
   "outputs": [],
   "source": [
    "def encoding(X_label):\n",
    "    y=[]\n",
    "    for label in X_label:\n",
    "        y.append(phoneDict[label])\n",
    "    y=np.array(y).reshape(len(y),1)\n",
    "    return y"
   ]
  },
  {
   "cell_type": "code",
   "execution_count": 4,
   "metadata": {},
   "outputs": [],
   "source": [
    "def test(model,X_test):\n",
    "    result=np.array(model[0].score_samples(X_test)).reshape(len(X_test),1)\n",
    "    for index in range(1,len(model)):\n",
    "        temp=np.array(model[index].score_samples(X_test)).reshape(len(X_test),1)\n",
    "        result= np.concatenate((result,temp),axis=1)\n",
    "    y_pred=result.argmax(axis=1)\n",
    "    return y_pred"
   ]
  },
  {
   "cell_type": "code",
   "execution_count": 5,
   "metadata": {},
   "outputs": [
    {
     "name": "stdout",
     "output_type": "stream",
     "text": [
      "Frame Accuracy with energy coefficient for mfcc: 14.306779435858832\n",
      "Frame Accuracy without Energy for mfcc with no. of components=2 : 11.213302041358544\n",
      "Frame Accuracy without Energy for mfcc with no. of components=4 : 13.877695611743345\n",
      "Frame Accuracy without Energy for mfcc with no. of components=8 : 13.784262498339459\n",
      "Frame Accuracy without Energy for mfcc with no. of components=16 : 13.780055794181465\n",
      "Frame Accuracy without Energy for mfcc with no. of components=32 : 13.84315635655139\n",
      "Frame Accuracy without Energy for mfcc with no. of components=64 : 13.246911393526103\n",
      "Frame Accuracy without Energy for mfcc with no. of components=128 : 12.609263605366868\n",
      "Frame Accuracy without Energy for mfcc with no. of components=256 : 12.010361776557588\n"
     ]
    }
   ],
   "source": [
    "test_path='/home/malak/IIITB/ASR/ASR_2018_T01/p1/features/mfcc/Test/timit.hdf'\n",
    "phoneDict={}\n",
    "i=0\n",
    "X_test, y_test_labels = load_dataset(test_path)\n",
    "for phoneme in np.unique(y_test_labels):\n",
    "    phoneDict[phoneme]= i\n",
    "    i=i+1\n",
    "\n",
    "y_test=encoding(y_test_labels)\n",
    "\n",
    "file=open('/home/malak/IIITB/ASR/ASR_2018_T01/p1/models/With_Energy/mfcc','rb')\n",
    "model=pickle.load(file)\n",
    "file.close()\n",
    "y_pred=test(model,X_test)\n",
    "print('Frame Accuracy with energy coefficient for mfcc: '+str(accuracy_score(y_pred,y_test)*100))\n",
    "np.savetxt('predicted/predMFCC.txt',y_pred,delimiter=\" \",fmt=\"%s\")\n",
    "np.savetxt('predicted/testMFCC.txt',y_test.reshape(len(y_test),),delimiter=\" \",fmt=\"%s\")\n",
    "\n",
    "X_test=np.delete(X_test,0,1)\n",
    "for component in (2, 4, 8, 16, 32, 64,128,256):\n",
    "    file=open('/home/malak/IIITB/ASR/ASR_2018_T01/p1/models/Without_Energy/mfcc'+str(component),'rb')\n",
    "    model=pickle.load(file)\n",
    "    file.close()\n",
    "    y_pred=test(model,X_test)\n",
    "    print('Frame Accuracy without Energy for mfcc with no. of components='+str(component)  + ' : ' +str(accuracy_score(y_pred,y_test)*100))\n",
    "    np.savetxt('predicted/predMFCC'+str(component)+'.txt',y_pred,delimiter=\" \",fmt=\"%s\")\n",
    "    np.savetxt('predicted/testMFCC'+str(component)+'.txt',y_test.reshape(len(y_test),),delimiter=\" \",fmt=\"%s\")"
   ]
  },
  {
   "cell_type": "code",
   "execution_count": null,
   "metadata": {},
   "outputs": [],
   "source": []
  },
  {
   "cell_type": "markdown",
   "metadata": {},
   "source": [
    "# n_delta=1"
   ]
  },
  {
   "cell_type": "code",
   "execution_count": 6,
   "metadata": {},
   "outputs": [
    {
     "name": "stdout",
     "output_type": "stream",
     "text": [
      "Frame Accuracy with energy coefficient for mfcc_delta: 18.78337687641146\n",
      "Frame Accuracy without energy coefficient for mfcc_delta: 17.146083337023423\n"
     ]
    }
   ],
   "source": [
    "test_path='/home/malak/IIITB/ASR/ASR_2018_T01/p1/features/mfcc_delta/Test/timit.hdf'\n",
    "phoneDict={}\n",
    "i=0\n",
    "X_test, y_test_labels = load_dataset(test_path)\n",
    "for phoneme in np.unique(y_test_labels):\n",
    "    phoneDict[phoneme]= i\n",
    "    i=i+1\n",
    "\n",
    "y_test=encoding(y_test_labels)\n",
    "\n",
    "file=open('/home/malak/IIITB/ASR/ASR_2018_T01/p1/models/With_Energy/mfcc_delta','rb')\n",
    "model=pickle.load(file)\n",
    "file.close()\n",
    "y_pred=test(model,X_test)\n",
    "print('Frame Accuracy with energy coefficient for mfcc_delta: '+str(accuracy_score(y_pred,y_test)*100))\n",
    "np.savetxt('predicted/E_pred_mfcc_delta.txt',y_pred,delimiter=\" \",fmt=\"%s\")\n",
    "np.savetxt('predicted/E_test_mfcc_delta.txt',y_test.reshape(len(y_test),),delimiter=\" \",fmt=\"%s\")\n",
    "\n",
    "\n",
    "file=open('/home/malak/IIITB/ASR/ASR_2018_T01/p1/models/Without_Energy/mfcc_delta','rb')\n",
    "model=pickle.load(file)\n",
    "file.close()\n",
    "X_test=np.delete(X_test,[0,13],1)\n",
    "y_pred=test(model,X_test)\n",
    "print('Frame Accuracy without energy coefficient for mfcc_delta: '+str(accuracy_score(y_pred,y_test)*100))\n",
    "np.savetxt('predicted/W_pred_mfcc_delta.txt',y_pred,delimiter=\" \",fmt=\"%s\")\n",
    "np.savetxt('predicted/W_test_mfcc_delta.txt',y_test.reshape(len(y_test),),delimiter=\" \",fmt=\"%s\")"
   ]
  },
  {
   "cell_type": "markdown",
   "metadata": {},
   "source": [
    "# n_delta=2"
   ]
  },
  {
   "cell_type": "code",
   "execution_count": 7,
   "metadata": {},
   "outputs": [
    {
     "name": "stdout",
     "output_type": "stream",
     "text": [
      "Frame Accuracy with energy coefficient for mfcc_delta_delta: 19.170836469910995\n",
      "Frame Accuracy without energy coefficient for mfcc_delta_delta: 17.037373245361557\n"
     ]
    }
   ],
   "source": [
    "test_path='/home/malak/IIITB/ASR/ASR_2018_T01/p1/features/mfcc_delta_delta/Test/timit.hdf'\n",
    "phoneDict={}\n",
    "i=0\n",
    "X_test, y_test_labels = load_dataset(test_path)\n",
    "for phoneme in np.unique(y_test_labels):\n",
    "    phoneDict[phoneme]= i\n",
    "    i=i+1\n",
    "\n",
    "y_test=encoding(y_test_labels)\n",
    "\n",
    "file=open('/home/malak/IIITB/ASR/ASR_2018_T01/p1/models/With_Energy/mfcc_delta_delta','rb')\n",
    "model=pickle.load(file)\n",
    "file.close()\n",
    "y_pred=test(model,X_test)\n",
    "print('Frame Accuracy with energy coefficient for mfcc_delta_delta: '+str(accuracy_score(y_pred,y_test)*100))\n",
    "np.savetxt('predicted/E_pred_mfcc_delta_delta.txt',y_pred,delimiter=\" \",fmt=\"%s\")\n",
    "np.savetxt('predicted/E_test_mfcc_delta_delta.txt',y_test.reshape(len(y_test),),delimiter=\" \",fmt=\"%s\")\n",
    "\n",
    "file=open('/home/malak/IIITB/ASR/ASR_2018_T01/p1/models/Without_Energy/mfcc_delta_delta','rb')\n",
    "model=pickle.load(file)\n",
    "file.close()\n",
    "X_test=np.delete(X_test,[0,13,26],1)\n",
    "y_pred=test(model,X_test)\n",
    "print('Frame Accuracy without energy coefficient for mfcc_delta_delta: '+str(accuracy_score(y_pred,y_test)*100))\n",
    "np.savetxt('predicted/W_pred_mfcc_delta_delta.txt',y_pred,delimiter=\" \",fmt=\"%s\")\n",
    "np.savetxt('predicted/W_test_mfcc_delta_delta.txt',y_test.reshape(len(y_test),),delimiter=\" \",fmt=\"%s\")"
   ]
  },
  {
   "cell_type": "code",
   "execution_count": null,
   "metadata": {},
   "outputs": [],
   "source": []
  },
  {
   "cell_type": "code",
   "execution_count": 37,
   "metadata": {},
   "outputs": [],
   "source": []
  },
  {
   "cell_type": "code",
   "execution_count": null,
   "metadata": {},
   "outputs": [],
   "source": []
  }
 ],
 "metadata": {
  "kernelspec": {
   "display_name": "Python 3",
   "language": "python",
   "name": "python3"
  },
  "language_info": {
   "codemirror_mode": {
    "name": "ipython",
    "version": 3
   },
   "file_extension": ".py",
   "mimetype": "text/x-python",
   "name": "python",
   "nbconvert_exporter": "python",
   "pygments_lexer": "ipython3",
   "version": "3.5.2"
  }
 },
 "nbformat": 4,
 "nbformat_minor": 2
}
