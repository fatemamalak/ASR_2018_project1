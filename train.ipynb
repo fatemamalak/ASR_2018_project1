{
 "cells": [
  {
   "cell_type": "code",
   "execution_count": 1,
   "metadata": {},
   "outputs": [],
   "source": [
    "import pandas as pd\n",
    "import numpy as np\n",
    "from sklearn import mixture\n",
    "import pickle  "
   ]
  },
  {
   "cell_type": "markdown",
   "metadata": {},
   "source": [
    "# Method to load dataset"
   ]
  },
  {
   "cell_type": "code",
   "execution_count": 2,
   "metadata": {},
   "outputs": [],
   "source": [
    "def load_dataset(train_path):\n",
    "    dataset=pd.read_hdf(train_path)\n",
    "    X_train=np.array(dataset['features'].values.tolist())\n",
    "    X_labels=np.array(dataset['labels'].tolist())\n",
    "    return X_train, X_labels"
   ]
  },
  {
   "cell_type": "code",
   "execution_count": 3,
   "metadata": {},
   "outputs": [],
   "source": [
    "def encoding(X_label):\n",
    "    y=[]\n",
    "    for label in X_label:\n",
    "        y.append(phoneDict[label])\n",
    "    y=np.array(y).reshape(len(y),1)\n",
    "    return y"
   ]
  },
  {
   "cell_type": "markdown",
   "metadata": {},
   "source": [
    "# Method to train the model"
   ]
  },
  {
   "cell_type": "code",
   "execution_count": 4,
   "metadata": {},
   "outputs": [],
   "source": [
    "def train(df,no_of_classes,component):\n",
    "    model=[]\n",
    "    (no_ofsamples,endIndex)=df.shape\n",
    "    for i in range(no_of_classes):\n",
    "        df_new=[]\n",
    "        for j in range(len(df)):\n",
    "            if df[j][endIndex-1]==i:\n",
    "                df_new.append(df[j])\n",
    "        X=np.array(df_new)\n",
    "        X=np.delete(X,endIndex-1,1)\n",
    "        gmm = mixture.GaussianMixture(n_components=component, covariance_type='diag')\n",
    "        model.append(gmm.fit(X))\n",
    "    return model"
   ]
  },
  {
   "cell_type": "code",
   "execution_count": 5,
   "metadata": {},
   "outputs": [],
   "source": [
    "train_path='/home/malak/IIITB/ASR/ASR_2018_T01/p1/features/mfcc/Train/timit.hdf'\n",
    "phoneDict={}\n",
    "i=0\n",
    "X_train, X_labels = load_dataset(train_path)\n",
    "for phoneme in np.unique(X_labels):\n",
    "    phoneDict[phoneme]= i\n",
    "    i=i+1\n",
    "y_train=encoding(X_labels)\n",
    "\n",
    "df= np.concatenate((X_train,y_train),axis=1)\n",
    "no_of_classes=len(phoneDict)\n",
    "model=train(df,no_of_classes,64)\n",
    "file=open('/home/malak/IIITB/ASR/ASR_2018_T01/p1/models/With_Energy/mfcc','wb')\n",
    "pickle.dump(model,file)\n",
    "file.close()"
   ]
  },
  {
   "cell_type": "code",
   "execution_count": 6,
   "metadata": {},
   "outputs": [],
   "source": [
    "X_train=np.delete(X_train,0,1)\n",
    "df= np.concatenate((X_train,y_train),axis=1)\n",
    "for component in (2, 4, 8, 16, 32, 64,128,256):\n",
    "    model=train(df,no_of_classes,component)\n",
    "    file=open('/home/malak/IIITB/ASR/ASR_2018_T01/p1/models/Without_Energy/mfcc'+str(component),'wb')\n",
    "    pickle.dump(model,file)\n",
    "    file.close()"
   ]
  },
  {
   "cell_type": "markdown",
   "metadata": {},
   "source": [
    "# n_delta=1"
   ]
  },
  {
   "cell_type": "code",
   "execution_count": 13,
   "metadata": {},
   "outputs": [],
   "source": [
    "train_path='/home/malak/IIITB/ASR/ASR_2018_T01/p1/features/mfcc_delta/Train/timit.hdf'\n",
    "phoneDict={}\n",
    "i=0\n",
    "X_train, X_labels = load_dataset(train_path)\n",
    "for phoneme in np.unique(X_labels):\n",
    "    phoneDict[phoneme]= i\n",
    "    i=i+1\n",
    "y_train=encoding(X_labels)\n",
    "\n",
    "#Training Model for mfcc_delta with energy\n",
    "df= np.concatenate((X_train,y_train),axis=1)\n",
    "no_of_classes=len(phoneDict)\n",
    "model=train(df,no_of_classes,64)\n",
    "file=open('/home/malak/IIITB/ASR/ASR_2018_T01/p1/models/With_Energy/mfcc_delta','wb')\n",
    "pickle.dump(model,file)\n",
    "file.close()"
   ]
  },
  {
   "cell_type": "code",
   "execution_count": 14,
   "metadata": {},
   "outputs": [],
   "source": [
    "#Training Model for mfcc_delta without energy\n",
    "X_train=np.delete(X_train,[0,13],1)\n",
    "df= np.concatenate((X_train,y_train),axis=1)\n",
    "model=train(df,no_of_classes,64)\n",
    "file=open('/home/malak/IIITB/ASR/ASR_2018_T01/p1/models/Without_Energy/mfcc_delta','wb')\n",
    "pickle.dump(model,file)\n",
    "file.close()"
   ]
  },
  {
   "cell_type": "code",
   "execution_count": 30,
   "metadata": {},
   "outputs": [],
   "source": []
  },
  {
   "cell_type": "markdown",
   "metadata": {},
   "source": [
    "# n_delta=2"
   ]
  },
  {
   "cell_type": "code",
   "execution_count": 15,
   "metadata": {},
   "outputs": [],
   "source": [
    "train_path='/home/malak/IIITB/ASR/ASR_2018_T01/p1/features/mfcc_delta_delta/Train/timit.hdf'\n",
    "phoneDict={}\n",
    "i=0\n",
    "X_train, X_labels = load_dataset(train_path)\n",
    "for phoneme in np.unique(X_labels):\n",
    "    phoneDict[phoneme]= i\n",
    "    i=i+1\n",
    "y_train=encoding(X_labels)\n",
    "\n",
    "df= np.concatenate((X_train,y_train),axis=1)\n",
    "no_of_classes=len(phoneDict)\n",
    "\n",
    "#Training Model for mfcc_delta_delta with energy\n",
    "model=train(df,no_of_classes,64)\n",
    "file=open('/home/malak/IIITB/ASR/ASR_2018_T01/p1/models/With_Energy/mfcc_delta_delta','wb')\n",
    "pickle.dump(model,file)\n",
    "file.close()"
   ]
  },
  {
   "cell_type": "code",
   "execution_count": 16,
   "metadata": {},
   "outputs": [],
   "source": []
  },
  {
   "cell_type": "code",
   "execution_count": 17,
   "metadata": {},
   "outputs": [],
   "source": [
    "X_train=np.delete(X_train,[0,13,26],1)\n",
    "df= np.concatenate((X_train,y_train),axis=1)\n",
    "\n",
    "#Training Model for mfcc_delta_delta with energy\n",
    "model=train(df,no_of_classes,64)\n",
    "file=open('/home/malak/IIITB/ASR/ASR_2018_T01/p1/models/Without_Energy/mfcc_delta_delta','wb')\n",
    "pickle.dump(model,file)\n",
    "file.close()"
   ]
  }
 ],
 "metadata": {
  "kernelspec": {
   "display_name": "Python 3",
   "language": "python",
   "name": "python3"
  },
  "language_info": {
   "codemirror_mode": {
    "name": "ipython",
    "version": 3
   },
   "file_extension": ".py",
   "mimetype": "text/x-python",
   "name": "python",
   "nbconvert_exporter": "python",
   "pygments_lexer": "ipython3",
   "version": "3.5.2"
  }
 },
 "nbformat": 4,
 "nbformat_minor": 2
}
